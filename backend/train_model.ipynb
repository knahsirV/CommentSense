{
 "cells": [
  {
   "cell_type": "code",
   "execution_count": 1,
   "metadata": {},
   "outputs": [
    {
     "name": "stderr",
     "output_type": "stream",
     "text": [
      "/Users/vrishank/Comp Sci Projects/Portfolio Projects/CommentSense/backend/.venv/lib/python3.10/site-packages/tqdm/auto.py:21: TqdmWarning: IProgress not found. Please update jupyter and ipywidgets. See https://ipywidgets.readthedocs.io/en/stable/user_install.html\n",
      "  from .autonotebook import tqdm as notebook_tqdm\n"
     ]
    }
   ],
   "source": [
    "from datasets import load_dataset"
   ]
  },
  {
   "cell_type": "code",
   "execution_count": 2,
   "metadata": {},
   "outputs": [
    {
     "name": "stdout",
     "output_type": "stream",
     "text": [
      "Downloading and preparing dataset text/breadlicker45--youtube-comments-180k to /Users/vrishank/.cache/huggingface/datasets/breadlicker45___text/breadlicker45--youtube-comments-180k-116da8f09efc3652/0.0.0/cb1e9bd71a82ad27976be3b12b407850fe2837d80c22c5e03a28949843a8ace2...\n"
     ]
    },
    {
     "name": "stderr",
     "output_type": "stream",
     "text": [
      "Downloading data: 100%|██████████| 31.8M/31.8M [00:01<00:00, 30.2MB/s]\n",
      "Downloading data files: 100%|██████████| 1/1 [00:01<00:00,  1.89s/it]\n",
      "Extracting data files: 100%|██████████| 1/1 [00:00<00:00, 410.52it/s]\n",
      "                                                                     \r"
     ]
    },
    {
     "name": "stdout",
     "output_type": "stream",
     "text": [
      "Dataset text downloaded and prepared to /Users/vrishank/.cache/huggingface/datasets/breadlicker45___text/breadlicker45--youtube-comments-180k-116da8f09efc3652/0.0.0/cb1e9bd71a82ad27976be3b12b407850fe2837d80c22c5e03a28949843a8ace2. Subsequent calls will reuse this data.\n"
     ]
    },
    {
     "name": "stderr",
     "output_type": "stream",
     "text": [
      "100%|██████████| 1/1 [00:00<00:00, 391.26it/s]\n"
     ]
    }
   ],
   "source": [
    "comments_dataset = load_dataset(\"breadlicker45/youtube-comments-180k\")"
   ]
  },
  {
   "cell_type": "code",
   "execution_count": 9,
   "metadata": {},
   "outputs": [],
   "source": [
    "# shuffle the dataset and pick out 3000 comments to train on and 300 to test on\n",
    "comments_dataset = comments_dataset.shuffle()\n",
    "train_comments = comments_dataset[\"train\"][\"text\"][:3000]\n",
    "test_comments = comments_dataset[\"train\"][\"text\"][3000:3300]\n",
    "# save the training and testing comments to respective files\n",
    "with open(\"train_comments.txt\", \"w\") as f:\n",
    "    f.write(\"\\n\".join(train_comments))\n",
    "with open(\"test_comments.txt\", \"w\") as f:\n",
    "    f.write(\"\\n\".join(test_comments))\n",
    "\n"
   ]
  },
  {
   "cell_type": "code",
   "execution_count": null,
   "metadata": {},
   "outputs": [],
   "source": []
  }
 ],
 "metadata": {
  "kernelspec": {
   "display_name": ".venv",
   "language": "python",
   "name": "python3"
  },
  "language_info": {
   "codemirror_mode": {
    "name": "ipython",
    "version": 3
   },
   "file_extension": ".py",
   "mimetype": "text/x-python",
   "name": "python",
   "nbconvert_exporter": "python",
   "pygments_lexer": "ipython3",
   "version": "3.10.9"
  },
  "orig_nbformat": 4
 },
 "nbformat": 4,
 "nbformat_minor": 2
}
